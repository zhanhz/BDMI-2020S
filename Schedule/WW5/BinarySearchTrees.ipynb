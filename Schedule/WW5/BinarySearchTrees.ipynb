{
 "cells": [
  {
   "cell_type": "markdown",
   "metadata": {
    "toc": true
   },
   "source": [
    "<h1>Table of Contents<span class=\"tocSkip\"></span></h1>\n",
    "<div class=\"toc\"><ul class=\"toc-item\"><li><span><a href=\"#Binary-Search-Trees-(BSTs)\" data-toc-modified-id=\"Binary-Search-Trees-(BSTs)-1\"><span class=\"toc-item-num\">1&nbsp;&nbsp;</span>Binary Search Trees (BSTs)</a></span><ul class=\"toc-item\"><li><span><a href=\"#Why-Binary-Search-Trees?\" data-toc-modified-id=\"Why-Binary-Search-Trees?-1.1\"><span class=\"toc-item-num\">1.1&nbsp;&nbsp;</span>Why Binary Search Trees?</a></span></li><li><span><a href=\"#Binary-Search-Tree-Property\" data-toc-modified-id=\"Binary-Search-Tree-Property-1.2\"><span class=\"toc-item-num\">1.2&nbsp;&nbsp;</span>Binary Search Tree Property</a></span></li><li><span><a href=\"#Binary-Search-Tree-Declaration\" data-toc-modified-id=\"Binary-Search-Tree-Declaration-1.3\"><span class=\"toc-item-num\">1.3&nbsp;&nbsp;</span>Binary Search Tree Declaration</a></span></li><li><span><a href=\"#Operations-on-Binary-Search-Trees\" data-toc-modified-id=\"Operations-on-Binary-Search-Trees-1.4\"><span class=\"toc-item-num\">1.4&nbsp;&nbsp;</span>Operations on Binary Search Trees</a></span></li><li><span><a href=\"#Important-Notes-on-BSTs\" data-toc-modified-id=\"Important-Notes-on-BSTs-1.5\"><span class=\"toc-item-num\">1.5&nbsp;&nbsp;</span>Important Notes on BSTs</a></span></li><li><span><a href=\"#Implementation-of-BST-operations\" data-toc-modified-id=\"Implementation-of-BST-operations-1.6\"><span class=\"toc-item-num\">1.6&nbsp;&nbsp;</span>Implementation of BST operations</a></span><ul class=\"toc-item\"><li><span><a href=\"#Finding-an-element-in-BST\" data-toc-modified-id=\"Finding-an-element-in-BST-1.6.1\"><span class=\"toc-item-num\">1.6.1&nbsp;&nbsp;</span>Finding an element in BST</a></span></li><li><span><a href=\"#Finding-minimum-element-in-a-Binary-Search-Tree\" data-toc-modified-id=\"Finding-minimum-element-in-a-Binary-Search-Tree-1.6.2\"><span class=\"toc-item-num\">1.6.2&nbsp;&nbsp;</span>Finding minimum element in a Binary Search Tree</a></span></li><li><span><a href=\"#Finding-maximum-element-in-a-Binary-Search-Tree\" data-toc-modified-id=\"Finding-maximum-element-in-a-Binary-Search-Tree-1.6.3\"><span class=\"toc-item-num\">1.6.3&nbsp;&nbsp;</span>Finding maximum element in a Binary Search Tree</a></span></li><li><span><a href=\"#Where-is-Inorder-Predecessor-and-Successor?\" data-toc-modified-id=\"Where-is-Inorder-Predecessor-and-Successor?-1.6.4\"><span class=\"toc-item-num\">1.6.4&nbsp;&nbsp;</span>Where is Inorder Predecessor and Successor?</a></span></li><li><span><a href=\"#Inserting-an-element-in-a-Binary-Search-Tree\" data-toc-modified-id=\"Inserting-an-element-in-a-Binary-Search-Tree-1.6.5\"><span class=\"toc-item-num\">1.6.5&nbsp;&nbsp;</span>Inserting an element in a Binary Search Tree</a></span></li><li><span><a href=\"#Deleting-an-element-from-a-Binary-Search-Tree\" data-toc-modified-id=\"Deleting-an-element-from-a-Binary-Search-Tree-1.6.6\"><span class=\"toc-item-num\">1.6.6&nbsp;&nbsp;</span>Deleting an element from a Binary Search Tree</a></span></li></ul></li></ul></li></ul></div>"
   ]
  },
  {
   "cell_type": "markdown",
   "metadata": {},
   "source": [
    "# Binary Search Trees (BSTs)\n",
    "\n",
    "## Why Binary Search Trees?\n",
    "\n",
    "In previous [article](https://andersy005.github.io/blog/2018/03/23/Binary%20Trees/) we have discussed tree representations and in all of them we did not impose any restriction on the nodes' data. As a result, to search an element we need to check both in left subtree and in right subtree. Due to this, the worst case complexity of search operation is $O(n)$.\n",
    "\n",
    "In this article, we will explore another variant of binary trees: **Binary Search Trees**. As the name suggests, the main use of this representation is for *searching*. In this representation we impose restriction on the kind of data a node can contain. As a result, it reduces the worst case average search operation to $O(\\log n)$ree\n",
    "\n",
    "\n",
    "## Binary Search Tree Property\n",
    "\n",
    "In binary search trees, all the left subtree elements should be less than root data and all the right subtree elements should be greater than the root data. "
   ]
  },
  {
   "cell_type": "markdown",
   "metadata": {},
   "source": [
    "## Binary Search Tree Declaration\n",
    "\n",
    "There is no difference between regular binary tree declaration and binary search tree declaration. The difference is only in data but not in structure.\n",
    "\n",
    "<img src=\"https://i.imgur.com/gmBEIk6.png\" width=\"600\">\n",
    "\n",
    "Now let's declare a BST and "
   ]
  },
  {
   "cell_type": "code",
   "execution_count": null,
   "metadata": {},
   "outputs": [],
   "source": [
    "class BSTNode:\n",
    "    def __init__(self, data, left=None, right=None):\n",
    "        self.data = data\n",
    "        self.left = left\n",
    "        self.right = right"
   ]
  },
  {
   "cell_type": "code",
   "execution_count": null,
   "metadata": {},
   "outputs": [],
   "source": [
    "class BinarySearchTree:\n",
    "    def __init__(self, root):\n",
    "        self.root = root"
   ]
  },
  {
   "cell_type": "markdown",
   "metadata": {},
   "source": [
    "## Operations on Binary Search Trees\n",
    "\n",
    "**Main Operations**\n",
    "\n",
    "The following are the main operations that are supported by binary search trees:\n",
    "\n",
    "- Find minimum/maximum element in BST\n",
    "- Insert an element in a BST\n",
    "- Delete an element from a BST\n",
    "\n",
    "**Auxiliary Operations**\n",
    "\n",
    "- Checking whether the given tree is a binary search tree or not\n",
    "- Finding $k^{th}$-smallest element in a BST\n",
    "- Sorting the elements in a BST and many more \n",
    "\n",
    "\n"
   ]
  },
  {
   "cell_type": "markdown",
   "metadata": {},
   "source": [
    "## Important Notes on BSTs\n",
    "\n",
    "- Since root data is always between left subtree data and right subtree data, performing **inorder traversal** on BST produces a sorted list.\n",
    "- While solving problems on BSTs, first we process left subtree, then root data, and finally we process right subtree.\n",
    "- BSTs consider either left or right subtrees for searching an element but not both.\n"
   ]
  },
  {
   "cell_type": "markdown",
   "metadata": {},
   "source": [
    "## Implementation of BST operations\n",
    "\n",
    "Let's start by creating the above binary search tree. "
   ]
  },
  {
   "cell_type": "code",
   "execution_count": null,
   "metadata": {},
   "outputs": [],
   "source": [
    "# create a binary search tree and set 14 as root node\n",
    "BST = BinarySearchTree(BSTNode(14))\n",
    "\n",
    "# Add child nodes 12, 20 to root node \n",
    "BST.root.left = BSTNode(12)\n",
    "BST.root.right = BSTNode(20)\n",
    "\n",
    "# Add child nodes 9, 13 to node 12\n",
    "BST.root.left.left = BSTNode(9)\n",
    "BST.root.left.right = BSTNode(13)\n",
    "\n",
    "# Add child nodes 18, 22 to node 20\n",
    "BST.root.right.left = BSTNode(18)\n",
    "BST.root.right.right = BSTNode(22)"
   ]
  },
  {
   "cell_type": "markdown",
   "metadata": {},
   "source": [
    "### Finding an element in BST"
   ]
  },
  {
   "cell_type": "markdown",
   "metadata": {},
   "source": [
    "Find operation is straightforward in a BST:\n",
    "    \n",
    "- Start with the root \n",
    "- Keep moving left or right using the BST property\n",
    "- If the data we are searching is same as current node's data then we return current node. \n",
    "- If the data we are searching is less than current node's data then search left subtree of current node; otherwise search right subtree of current node. \n",
    "- If the data is not present, we end up in a `NULL` link"
   ]
  },
  {
   "cell_type": "code",
   "execution_count": null,
   "metadata": {},
   "outputs": [],
   "source": [
    "def find_element(root, data):\n",
    "    \"\"\"Function that performs find operation when given BST root and \n",
    "    data to look for. It returns current node if the data is found; and\n",
    "    it returns None when not found.\"\"\"\n",
    "\n",
    "    current_node = root\n",
    "\n",
    "    if current_node is None:\n",
    "        print(\"Not found\")\n",
    "        return\n",
    "\n",
    "    if current_node.data == data:\n",
    "        print(current_node.data)\n",
    "\n",
    "    elif data < current_node.data:\n",
    "        # Search the left subtree\n",
    "        find_element(current_node.left, data)\n",
    "\n",
    "    else:\n",
    "        # Search the right subtree\n",
    "        find_element(current_node.right, data)"
   ]
  },
  {
   "cell_type": "code",
   "execution_count": null,
   "metadata": {},
   "outputs": [],
   "source": [
    "find_element(BST.root, 18)"
   ]
  },
  {
   "cell_type": "markdown",
   "metadata": {},
   "source": [
    "Here is a visualization for the find operation\n",
    "\n",
    "![](https://i.imgur.com/TomOy5k.gif)"
   ]
  },
  {
   "cell_type": "code",
   "execution_count": null,
   "metadata": {},
   "outputs": [],
   "source": [
    "find_element(BST.root, 7)"
   ]
  },
  {
   "cell_type": "markdown",
   "metadata": {},
   "source": [
    "![](https://i.imgur.com/IclriZV.gif)"
   ]
  },
  {
   "cell_type": "markdown",
   "metadata": {},
   "source": [
    "- **Time Complexity:** O(n), in worst case (when the BST is a skew tree)\n",
    "- **Space Complexity:** O(n) for recursive stack"
   ]
  },
  {
   "cell_type": "markdown",
   "metadata": {},
   "source": [
    "### Finding minimum element in a Binary Search Tree"
   ]
  },
  {
   "cell_type": "markdown",
   "metadata": {},
   "source": [
    "In BSTs, the minimum element is the left-most node, which does not have left child."
   ]
  },
  {
   "cell_type": "code",
   "execution_count": null,
   "metadata": {},
   "outputs": [],
   "source": [
    "def get_min(root):\n",
    "    \"\"\"Finds minimun element in a BST and returns its data\"\"\"\n",
    "    current_node = root\n",
    "    \n",
    "    if current_node.left is None:\n",
    "        return current_node.data\n",
    "    \n",
    "    else:\n",
    "        return get_min(current_node.left)"
   ]
  },
  {
   "cell_type": "markdown",
   "metadata": {},
   "source": [
    "In the BST above, the minimum is **9**. "
   ]
  },
  {
   "cell_type": "code",
   "execution_count": null,
   "metadata": {},
   "outputs": [],
   "source": [
    "get_min(BST.root)"
   ]
  },
  {
   "cell_type": "markdown",
   "metadata": {},
   "source": [
    "![](https://i.imgur.com/fbaQTxg.gif)"
   ]
  },
  {
   "cell_type": "markdown",
   "metadata": {},
   "source": [
    "- **Time Complexity:** O(n), in worst case (when the BST is a left skew tree)\n",
    "- **Space Complexity:** O(n) for recursive stack"
   ]
  },
  {
   "cell_type": "markdown",
   "metadata": {},
   "source": [
    "### Finding maximum element in a Binary Search Tree"
   ]
  },
  {
   "cell_type": "markdown",
   "metadata": {},
   "source": [
    "In BSTs, the maximum element is the right-most node, which does not have right child."
   ]
  },
  {
   "cell_type": "code",
   "execution_count": null,
   "metadata": {},
   "outputs": [],
   "source": [
    "def get_max(root):\n",
    "    \"\"\"Finds the maximum element in a BST\"\"\"\n",
    "    current_node = root\n",
    "    \n",
    "    if current_node.right is None:\n",
    "        return current_node.data\n",
    "    \n",
    "    else:\n",
    "        return get_max(current_node.right)"
   ]
  },
  {
   "cell_type": "code",
   "execution_count": null,
   "metadata": {},
   "outputs": [],
   "source": [
    "get_max(BST.root)"
   ]
  },
  {
   "cell_type": "markdown",
   "metadata": {},
   "source": [
    "![](https://i.imgur.com/0s20g2D.gif)"
   ]
  },
  {
   "cell_type": "markdown",
   "metadata": {},
   "source": [
    "- **Time Complexity:** O(n), in worst case (when the BST is a right skew tree)\n",
    "- **Space Complexity:** O(n) for recursive stack"
   ]
  },
  {
   "cell_type": "markdown",
   "metadata": {},
   "source": [
    "### Where is Inorder Predecessor and Successor?"
   ]
  },
  {
   "cell_type": "markdown",
   "metadata": {},
   "source": [
    "When you do the inorder traversal of a binary tree, the neighbors of given node are called **Predecessor** (the node lies behind of given node) and **Successor** (the node lies ahead of given node).\n",
    "\n",
    "\n",
    "The following is the algorithm to find predecessor, successor: \n",
    "\n",
    "Input: root node, val\n",
    "output: predecessor node, successor node\n",
    "\n",
    "1. If root is None\n",
    "\n",
    "       then return\n",
    "      \n",
    "2. if val is found then\n",
    "\n",
    " a. If its left subtree is not null\n",
    "        Then predecessor will be the right most \n",
    "        child of left subtree or left child itself.\n",
    " b. If its right subtree is not null\n",
    "        The successor will be the left most child \n",
    "        of right subtree or right child itself.\n",
    "    return\n",
    "    \n",
    "3. If val is smaller than root node\n",
    "        set the successor as root\n",
    "        search recursively into left subtree\n",
    "    else\n",
    "        set the predecessor as root\n",
    "        search recursively into right subtree"
   ]
  },
  {
   "cell_type": "code",
   "execution_count": null,
   "metadata": {},
   "outputs": [],
   "source": [
    "predecessor = -1\n",
    "successor = -1"
   ]
  },
  {
   "cell_type": "code",
   "execution_count": null,
   "metadata": {},
   "outputs": [],
   "source": [
    "def get_successor_predecessor(root, val):\n",
    "    \"\"\"Finds and returns a node's successor and predecessor.\"\"\"\n",
    "    global predecessor\n",
    "    global successor\n",
    "    # Base case\n",
    "    if root is None:\n",
    "        return\n",
    "\n",
    "    if root.data == val:\n",
    "        # Go to the right most element in the left subtree to get predecessor\n",
    "        if root.left is not None:\n",
    "\n",
    "            temp = root.left\n",
    "\n",
    "            while temp.right is not None:\n",
    "                temp = temp.right\n",
    "\n",
    "            predecessor = temp.data\n",
    "\n",
    "        if root.right is not None:\n",
    "            # Go to the left most element in the right subtree to get successor\n",
    "            temp = root.right\n",
    "\n",
    "            while temp.left is not None:\n",
    "                temp = temp.left\n",
    "\n",
    "            successor = temp.data\n",
    "\n",
    "        return\n",
    "\n",
    "    if root.data > val:\n",
    "        # we make the root as successor because we might have a\n",
    "        # situation when value matches with the root, it won't have\n",
    "        # right subtree to find the successor, in that case we need\n",
    "        # parent to be the successor\n",
    "        successor = root.data\n",
    "        get_successor_predecessor(root.left, val)\n",
    "\n",
    "    else:\n",
    "        # we make the root as predecessor because we might have a\n",
    "        # situation when value matches with the root, it wont have\n",
    "        # right subtree to find the predecessor, in that case we need\n",
    "        # parent to be the predecessor.\n",
    "        predecessor = root.data\n",
    "        get_successor_predecessor(root.right, val)"
   ]
  },
  {
   "cell_type": "code",
   "execution_count": null,
   "metadata": {},
   "outputs": [],
   "source": [
    "get_successor_predecessor(BST.root, 22)\n",
    "print('Successor is: ', successor)\n",
    "print('Predecessor is: ', predecessor)"
   ]
  },
  {
   "cell_type": "markdown",
   "metadata": {},
   "source": [
    "![](https://i.imgur.com/hUpfEmd.gif)"
   ]
  },
  {
   "cell_type": "code",
   "execution_count": null,
   "metadata": {},
   "outputs": [],
   "source": [
    "get_successor_predecessor(BST.root, 14)\n",
    "print('Successor is: ', successor)\n",
    "print('Predecessor is: ', predecessor)"
   ]
  },
  {
   "cell_type": "markdown",
   "metadata": {},
   "source": [
    "![](https://i.imgur.com/oOqKcu4.gif)"
   ]
  },
  {
   "cell_type": "code",
   "execution_count": null,
   "metadata": {},
   "outputs": [],
   "source": [
    "get_successor_predecessor(BST.root, 13)\n",
    "print('Successor is: ', successor)\n",
    "print('Predecessor is: ', predecessor)"
   ]
  },
  {
   "cell_type": "markdown",
   "metadata": {},
   "source": [
    "![](https://i.imgur.com/oPsGgdt.gif)"
   ]
  },
  {
   "cell_type": "markdown",
   "metadata": {},
   "source": [
    "### Inserting an element in a Binary Search Tree"
   ]
  },
  {
   "cell_type": "markdown",
   "metadata": {},
   "source": [
    "To insert data into a binary search tree, first we need to find the location for that element. We can find the location of insertion by following the same mechanism as [find operation](#Finding an element in BST). While finding the location, if the data is already there then we can simply neglect and return. Otherwise, insert **data** at the last location on the path traversed. "
   ]
  },
  {
   "cell_type": "code",
   "execution_count": null,
   "metadata": {},
   "outputs": [],
   "source": [
    "def insert_node(root, val):\n",
    "    if root is None:\n",
    "        root = BSTNode(val)\n",
    "\n",
    "    else:\n",
    "\n",
    "        if root.data > val:\n",
    "            if root.left is None:\n",
    "                root.left = BSTNode(val)\n",
    "            else:\n",
    "                insert_node(root.left, val)\n",
    "                \n",
    "        else:\n",
    "            if root.right is None:\n",
    "                root.right = BSTNode(val)\n",
    "                \n",
    "            else:\n",
    "                insert_node(root.right, val)"
   ]
  },
  {
   "cell_type": "markdown",
   "metadata": {},
   "source": [
    "To verify that the element was correctly inserted, let's write an inorder traversal function. "
   ]
  },
  {
   "cell_type": "code",
   "execution_count": null,
   "metadata": {},
   "outputs": [],
   "source": [
    "def inorder_traversal(root):\n",
    "    \"\"\"Performs inorder traversal recursively. The nodes are printed \n",
    "    in traversal order.\"\"\"\n",
    "\n",
    "    if root is None:\n",
    "        return\n",
    "\n",
    "    inorder_traversal(root.left)\n",
    "    print(root.data, end=' ')\n",
    "    inorder_traversal(root.right)"
   ]
  },
  {
   "cell_type": "code",
   "execution_count": null,
   "metadata": {},
   "outputs": [],
   "source": [
    "print('Binary Search Tree before insertion: ')\n",
    "inorder_traversal(BST.root)"
   ]
  },
  {
   "cell_type": "code",
   "execution_count": null,
   "metadata": {},
   "outputs": [],
   "source": [
    "insert_node(BST.root, 10)\n",
    "print('Binary Search Tree After insertion: ')\n",
    "inorder_traversal(BST.root)"
   ]
  },
  {
   "cell_type": "markdown",
   "metadata": {},
   "source": [
    "![](https://i.imgur.com/rnlTt9t.gif)"
   ]
  },
  {
   "cell_type": "markdown",
   "metadata": {},
   "source": [
    "In the above code, after inserting an element in subtrees, the tree is returned to its parent. As a result, the complete tree will get updated."
   ]
  },
  {
   "cell_type": "markdown",
   "metadata": {},
   "source": [
    "- **Time Complexity:** O(n), in worst case (when the BST is a skew tree)\n",
    "- **Space Complexity:** O(n) for recursive stack"
   ]
  },
  {
   "cell_type": "markdown",
   "metadata": {},
   "source": [
    "### Deleting an element from a Binary Search Tree"
   ]
  },
  {
   "cell_type": "markdown",
   "metadata": {},
   "source": [
    "The delete operation is more complicated than other operations. This is because the element to be deleted may not be the leaf node. In this operation also, we need to find the location of the element which we want to delete. "
   ]
  },
  {
   "cell_type": "code",
   "execution_count": null,
   "metadata": {},
   "outputs": [],
   "source": []
  }
 ],
 "metadata": {
  "kernelspec": {
   "display_name": "Python 3",
   "language": "python",
   "name": "python3"
  },
  "language_info": {
   "codemirror_mode": {
    "name": "ipython",
    "version": 3
   },
   "file_extension": ".py",
   "mimetype": "text/x-python",
   "name": "python",
   "nbconvert_exporter": "python",
   "pygments_lexer": "ipython3",
   "version": "3.7.4"
  },
  "toc": {
   "nav_menu": {},
   "number_sections": true,
   "sideBar": true,
   "skip_h1_title": false,
   "title_cell": "Table of Contents",
   "title_sidebar": "Contents",
   "toc_cell": true,
   "toc_position": {},
   "toc_section_display": true,
   "toc_window_display": false
  }
 },
 "nbformat": 4,
 "nbformat_minor": 2
}
